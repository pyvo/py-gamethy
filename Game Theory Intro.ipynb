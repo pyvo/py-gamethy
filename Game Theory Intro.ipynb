{
 "cells": [
  {
   "cell_type": "markdown",
   "metadata": {},
   "source": [
    "<b>Game theory</b> is \"the study of mathematical models of conflict and cooperation between intelligent rational decision-makers.\" \n"
   ]
  },
  {
   "cell_type": "code",
   "execution_count": 16,
   "metadata": {
    "collapsed": false
   },
   "outputs": [],
   "source": [
    "import sys\n",
    "\n",
    "# adjust to path of game lib\n",
    "sys.path.append(\"/home/ivaka/Code/python/py-gamethy/lib\")"
   ]
  },
  {
   "cell_type": "code",
   "execution_count": 17,
   "metadata": {
    "collapsed": false
   },
   "outputs": [],
   "source": [
    "# import imp\n",
    "# imp.reload(game)\n",
    "\n",
    "import game"
   ]
  },
  {
   "cell_type": "code",
   "execution_count": 18,
   "metadata": {
    "collapsed": false,
    "scrolled": false
   },
   "outputs": [
    {
     "name": "stdout",
     "output_type": "stream",
     "text": [
      "Prisoner's Dilemma\n",
      "+------------+------------+------------+\n",
      "|            |   Cooperate|      Defect|\n",
      "+------------+------------+------------+\n",
      "|   Cooperate|    (-2, -2)|    (-6, -1)|\n",
      "+------------+------------+------------+\n",
      "|      Defect|    (-1, -6)|    (-4, -4)|\n",
      "+------------+------------+------------+\n",
      "\n"
     ]
    }
   ],
   "source": [
    "print(\"Prisoner's Dilemma\")\n",
    "# Prisoner's Dilemma\n",
    "pd = game.Game(payoff_matrix=[[(-2,-2),(-6,-1)],[(-1,-6),(-4,-4)]], moves_A=[\"Cooperate\", \"Defect\"], moves_B=[\"Cooperate\", \"Defect\"])\n",
    "print(pd)"
   ]
  },
  {
   "cell_type": "markdown",
   "metadata": {},
   "source": [
    "A strategy profile is a <b>Nash equilibrium</b> if no player can do better by unilaterally changing his or her strategy. "
   ]
  },
  {
   "cell_type": "code",
   "execution_count": 19,
   "metadata": {
    "collapsed": false
   },
   "outputs": [
    {
     "name": "stdout",
     "output_type": "stream",
     "text": [
      "[['Defect', 'Defect']]\n"
     ]
    }
   ],
   "source": [
    "# Calculate Nash Equilibrium/a\n",
    "\n",
    "print(pd.calculate_pure_nash())"
   ]
  },
  {
   "cell_type": "code",
   "execution_count": 20,
   "metadata": {
    "collapsed": false,
    "scrolled": false
   },
   "outputs": [
    {
     "name": "stdout",
     "output_type": "stream",
     "text": [
      "Prisoner's Dilemma* - modified weights\n",
      "+------------+------------+------------+\n",
      "|            |   Cooperate|      Defect|\n",
      "+------------+------------+------------+\n",
      "|   Cooperate|    (-2, -2)|    (-6, -1)|\n",
      "+------------+------------+------------+\n",
      "|      Defect|    (-1, -6)|    (-7, -7)|\n",
      "+------------+------------+------------+\n",
      "\n"
     ]
    }
   ],
   "source": [
    "print(\"Prisoner's Dilemma* - modified weights\")\n",
    "# Prisoner's Dilemma\n",
    "pd_mod = game.Game(payoff_matrix=[[(-2,-2),(-6,-1)],[(-1,-6),(-7,-7)]], moves_A=[\"Cooperate\", \"Defect\"], moves_B=[\"Cooperate\", \"Defect\"])\n",
    "print(pd_mod)"
   ]
  },
  {
   "cell_type": "markdown",
   "metadata": {},
   "source": [
    "\\* Eigentlich darf dieses Spiel nicht mehr 'Prisoner's Dilemma' genannt werden, da <i>defect</i> bei den veränderten Gewichten nicht mehr eine <u>dominante Strategie</u> ist.\n",
    "\n",
    "Siehe dazu:<br>\n",
    "https://en.wikipedia.org/wiki/Prisoner's_dilemma#Generalized_form <br>\n",
    "https://de.wikipedia.org/wiki/Dominante_Strategie <br>\n",
    "\n",
    "Wer sich weiterhin interessiert, kann sich auch die 'iterated'-Version des Gefangenendilemmas anschauen. Links, siehe unten."
   ]
  },
  {
   "cell_type": "code",
   "execution_count": 21,
   "metadata": {
    "collapsed": false
   },
   "outputs": [
    {
     "name": "stdout",
     "output_type": "stream",
     "text": [
      "[['Cooperate', 'Defect'], ['Defect', 'Cooperate']]\n"
     ]
    }
   ],
   "source": [
    "# Calculate Nash Equilibrium/a\n",
    "\n",
    "print(pd_mod.calculate_pure_nash())"
   ]
  },
  {
   "cell_type": "markdown",
   "metadata": {
    "collapsed": false
   },
   "source": [
    "<i>Gricean Maxims</i> (Grice, 1989)<br><br>\n",
    "\n",
    "<b>Maxim of Quality</b>: Try to make your contribution one that is true.\n",
    "\n",
    "<ul>\n",
    "<li>Do not say what you believe to be false.</li>\n",
    "<li>Do not say that for which you lack adequate evidence.</li>\n",
    "</ul><br>\n",
    "\n",
    "<b>Maxim of Quantity</b>:\n",
    "<ul>\n",
    "    <li> Make your contribution as informative as is required for the\n",
    "current purposes of the exchange.</li>\n",
    "    <li>Do not make your contribution more informative than is required.</li>\n",
    "</ul><br>\n",
    "\n",
    "<b>Maxim of Relation</b>:\n",
    "<ul>\n",
    "    <li>Be relevant.</li>\n",
    "</ul><br>\n",
    "\n",
    "<b>Maxim of Manner</b>: Be perspicuous.\n",
    "\n",
    "<ul>\n",
    "<li>Avoid obscurity of expression.</li>\n",
    "<li>Avoid ambiguity.</li>\n",
    "<li>Be brief (avoid unnecessary prolixity).</li>\n",
    "<li>Be orderly.</li>\n",
    "</ul>"
   ]
  },
  {
   "cell_type": "markdown",
   "metadata": {},
   "source": [
    "<b>Code</b> availiable at: https://github.com/pyvo/py-gamethy/\n",
    "\n",
    "Weiterführende Links:\n",
    "\n",
    "https://de.wikipedia.org/wiki/Gefangenendilemma#Mehrmaliges_.28endliches.29_Spiel <br>\n",
    "https://de.wikipedia.org/wiki/Tit_for_Tat <br>\n",
    "https://de.wikipedia.org/wiki/Trembling-hand-perfektes_Gleichgewicht <br>\n",
    "\n",
    "\n"
   ]
  }
 ],
 "metadata": {
  "kernelspec": {
   "display_name": "Python 3",
   "language": "python",
   "name": "python3"
  },
  "language_info": {
   "codemirror_mode": {
    "name": "ipython",
    "version": 3
   },
   "file_extension": ".py",
   "mimetype": "text/x-python",
   "name": "python",
   "nbconvert_exporter": "python",
   "pygments_lexer": "ipython3",
   "version": "3.5.0"
  }
 },
 "nbformat": 4,
 "nbformat_minor": 0
}
